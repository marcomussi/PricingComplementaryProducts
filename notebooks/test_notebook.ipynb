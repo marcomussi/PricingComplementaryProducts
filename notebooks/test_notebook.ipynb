{
 "cells": [
  {
   "cell_type": "code",
   "execution_count": null,
   "id": "9a0a6d94",
   "metadata": {},
   "outputs": [
    {
     "ename": "ModuleNotFoundError",
     "evalue": "No module named 'numpy'",
     "output_type": "error",
     "traceback": [
      "\u001b[31m---------------------------------------------------------------------------\u001b[39m",
      "\u001b[31mModuleNotFoundError\u001b[39m                       Traceback (most recent call last)",
      "\u001b[36mCell\u001b[39m\u001b[36m \u001b[39m\u001b[32mIn[5]\u001b[39m\u001b[32m, line 1\u001b[39m\n\u001b[32m----> \u001b[39m\u001b[32m1\u001b[39m \u001b[38;5;28;01mimport\u001b[39;00m\u001b[38;5;250m \u001b[39m\u001b[34;01mnumpy\u001b[39;00m\u001b[38;5;250m \u001b[39m\u001b[38;5;28;01mas\u001b[39;00m\u001b[38;5;250m \u001b[39m\u001b[34;01mnp\u001b[39;00m\n\u001b[32m      2\u001b[39m \u001b[38;5;28;01mimport\u001b[39;00m\u001b[38;5;250m \u001b[39m\u001b[34;01mmatplotlib\u001b[39;00m\u001b[34;01m.\u001b[39;00m\u001b[34;01mpyplot\u001b[39;00m\u001b[38;5;250m \u001b[39m\u001b[38;5;28;01mas\u001b[39;00m\u001b[38;5;250m \u001b[39m\u001b[34;01mplt\u001b[39;00m\n\u001b[32m      3\u001b[39m \u001b[38;5;28;01mimport\u001b[39;00m\u001b[38;5;250m \u001b[39m\u001b[34;01msys\u001b[39;00m\n",
      "\u001b[31mModuleNotFoundError\u001b[39m: No module named 'numpy'"
     ]
    }
   ],
   "source": [
    "import numpy as np\n",
    "import matplotlib.pyplot as plt\n",
    "import sys\n",
    "print(sys.executable)"
   ]
  },
  {
   "cell_type": "code",
   "execution_count": 4,
   "id": "cbc3ea29",
   "metadata": {},
   "outputs": [
    {
     "ename": "NameError",
     "evalue": "name 'np' is not defined",
     "output_type": "error",
     "traceback": [
      "\u001b[31m---------------------------------------------------------------------------\u001b[39m",
      "\u001b[31mNameError\u001b[39m                                 Traceback (most recent call last)",
      "\u001b[36mCell\u001b[39m\u001b[36m \u001b[39m\u001b[32mIn[4]\u001b[39m\u001b[32m, line 3\u001b[39m\n\u001b[32m      1\u001b[39m kernel_L = \u001b[32m5\u001b[39m\n\u001b[32m      2\u001b[39m base_sigma_sq = \u001b[32m0.25\u001b[39m\n\u001b[32m----> \u001b[39m\u001b[32m3\u001b[39m x_plt = \u001b[43mnp\u001b[49m.linspace(\u001b[32m0\u001b[39m, \u001b[32m1\u001b[39m, \u001b[32m100\u001b[39m) \u001b[38;5;66;03m# plot 100 samples\u001b[39;00m\n\u001b[32m      5\u001b[39m data_x_aggr = np.array([\u001b[32m0.1\u001b[39m, \u001b[32m0.3\u001b[39m, \u001b[32m0.8\u001b[39m]).reshape(-\u001b[32m1\u001b[39m, \u001b[32m1\u001b[39m)\n\u001b[32m      6\u001b[39m data_y_aggr = np.array([\u001b[32m6\u001b[39m/\u001b[32m16\u001b[39m, \u001b[32m3\u001b[39m/\u001b[32m5\u001b[39m, \u001b[32m4\u001b[39m/\u001b[32m10\u001b[39m]).reshape(-\u001b[32m1\u001b[39m, \u001b[32m1\u001b[39m)\n",
      "\u001b[31mNameError\u001b[39m: name 'np' is not defined"
     ]
    }
   ],
   "source": [
    "kernel_L = 5\n",
    "base_sigma_sq = 0.25\n",
    "x_plt = np.linspace(0, 1, 100) # plot 100 samples\n",
    "\n",
    "data_x_aggr = np.array([0.1, 0.3, 0.8]).reshape(-1, 1)\n",
    "data_y_aggr = np.array([6/16, 3/5, 4/10]).reshape(-1, 1)\n",
    "sigma_sq_aggr = base_sigma_sq * 1 / np.array([16, 5, 10]).reshape(-1, 1)\n",
    "\n",
    "data_x = np.vstack((0.1 * np.ones((16, 1)), 0.3 * np.ones((5, 1)), 0.8 * np.ones((10, 1))))\n",
    "data_y = np.vstack((np.ones((6, 1)), np.zeros((10, 1)), np.ones((3, 1)), np.zeros((2, 1)), np.ones((4, 1)), np.zeros((6, 1))))\n",
    "\n",
    "hetRegressor = HeteroskedasticGaussianProcessRegressor(kernel_L, 1)\n",
    "hetRegressor.load_data(data_x_aggr, data_y_aggr, sigma_sq_aggr)\n",
    "y_hat1, y_sigma1 = hetRegressor.compute(x_plt.reshape(-1, 1))\n",
    "plt.plot(x_plt, y_hat1, color=\"blue\", label=\"Heteroskedastic GP\")\n",
    "plt.fill_between(x_plt, y_hat1 - y_sigma1, y_hat1 + y_sigma1, color=\"blue\", alpha=0.3)\n",
    "plt.scatter(data_x_aggr, data_y_aggr, color=\"blue\", label=\"Heteroskedastic GP Data\")\n",
    "\n",
    "homRegressor = GaussianProcessRegressor(kernel_L, base_sigma_sq, 1)\n",
    "homRegressor.load_data(data_x, data_y)\n",
    "y_hat2, y_sigma2 = homRegressor.compute(x_plt.reshape(-1, 1))\n",
    "plt.plot(x_plt, y_hat2, color=\"orange\", label=\"Homoskedastic GP\")\n",
    "plt.fill_between(x_plt, y_hat2 - y_sigma2, y_hat2 + y_sigma2, color=\"orange\", alpha=0.3)\n",
    "plt.scatter(data_x, data_y, color=\"orange\", label=\"Homoskedastic GP Data\")\n",
    "\n",
    "plt.xlim([0, 1])\n",
    "plt.ylim([- 0.1, 1.1])\n",
    "plt.legend()"
   ]
  },
  {
   "cell_type": "code",
   "execution_count": null,
   "id": "3ea5f78d",
   "metadata": {},
   "outputs": [],
   "source": []
  }
 ],
 "metadata": {
  "kernelspec": {
   "display_name": "Python 3",
   "language": "python",
   "name": "python3"
  },
  "language_info": {
   "codemirror_mode": {
    "name": "ipython",
    "version": 3
   },
   "file_extension": ".py",
   "mimetype": "text/x-python",
   "name": "python",
   "nbconvert_exporter": "python",
   "pygments_lexer": "ipython3",
   "version": "3.14.0"
  }
 },
 "nbformat": 4,
 "nbformat_minor": 5
}
