{
 "cells": [
  {
   "cell_type": "code",
   "execution_count": 2,
   "id": "801ce418-baa7-4556-9733-80a53ca859e0",
   "metadata": {},
   "outputs": [
    {
     "name": "stdout",
     "output_type": "stream",
     "text": [
      "Current path: /Users/marcomussi/git/PricingComplementaryProducts\n",
      "Starting Solver with input matrix: \n",
      "[[10 20 30 40 50 60]\n",
      " [10 20 30 40 50 60]\n",
      " [30 50 30 40 50 60]\n",
      " [10 20 30 40 80 60]\n",
      " [10 20 30 40 50 60]\n",
      " [10 20 30 40 50 60]]\n",
      "Solver Status: OPTIMAL\n",
      "Objective value: 290.0\n",
      "\n",
      "Decision Variables (x[i][j]):\n",
      "[[0 0 0 0 0 0]\n",
      " [0 0 0 0 0 0]\n",
      " [1 1 1 0 0 0]\n",
      " [0 0 0 1 1 0]\n",
      " [0 0 0 0 0 0]\n",
      " [0 0 0 0 0 1]]\n",
      "\n",
      "Binary Variables y:\n",
      "[1 1 0 0 1 1]\n"
     ]
    }
   ],
   "source": [
    "import os, sys, numpy as np\n",
    "\n",
    "if os.path.basename(os.getcwd()) == \"notebooks\":\n",
    "    os.chdir(\"..\")\n",
    "print(f\"Current path: {os.getcwd()}\")\n",
    "sys.path.append('./')\n",
    "\n",
    "from solvers.integer_optimizers import complementary_products\n",
    "\n",
    "V_mx = np.array([\n",
    "    [10, 20, 30, 40, 50, 60],\n",
    "    [10, 20, 30, 40, 50, 60],\n",
    "    [30, 50, 30, 40, 50, 60],\n",
    "    [10, 20, 30, 40, 80, 60],\n",
    "    [10, 20, 30, 40, 50, 60],\n",
    "    [10, 20, 30, 40, 50, 60]\n",
    "])\n",
    "\n",
    "x_vals, y_vals = complementary_products(V_mx, verbose=True)"
   ]
  },
  {
   "cell_type": "code",
   "execution_count": null,
   "id": "626e7fc1",
   "metadata": {},
   "outputs": [],
   "source": []
  }
 ],
 "metadata": {
  "kernelspec": {
   "display_name": "py39",
   "language": "python",
   "name": "python3"
  },
  "language_info": {
   "codemirror_mode": {
    "name": "ipython",
    "version": 3
   },
   "file_extension": ".py",
   "mimetype": "text/x-python",
   "name": "python",
   "nbconvert_exporter": "python",
   "pygments_lexer": "ipython3",
   "version": "3.9.21"
  }
 },
 "nbformat": 4,
 "nbformat_minor": 5
}
