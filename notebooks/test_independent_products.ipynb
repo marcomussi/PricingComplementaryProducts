{
 "cells": [
  {
   "cell_type": "code",
   "execution_count": 1,
   "id": "348574d5",
   "metadata": {},
   "outputs": [
    {
     "name": "stdout",
     "output_type": "stream",
     "text": [
      "Current path: /Users/marcomussi/git/PricingComplementaryProducts.\n"
     ]
    }
   ],
   "source": [
    "import os, sys, time, datetime, numpy as np\n",
    "import matplotlib.pyplot as plt\n",
    "from tqdm.auto import tqdm\n",
    "\n",
    "if os.path.basename(os.getcwd()) == \"notebooks\":\n",
    "    os.chdir(\"..\")\n",
    "print(f\"Current path: {os.getcwd()}\")\n",
    "sys.path.append('./')\n",
    "\n",
    "from environments.independent import IndependentPricingEnvironment\n",
    "from agents.pricing.independent import OptIndepPricingAgent"
   ]
  },
  {
   "cell_type": "code",
   "execution_count": 2,
   "id": "4e4146c6",
   "metadata": {},
   "outputs": [
    {
     "data": {
      "application/vnd.jupyter.widget-view+json": {
       "model_id": "99a53464e84c4901b61141b86c08c63e",
       "version_major": 2,
       "version_minor": 0
      },
      "text/plain": [
       "  0%|          | 0/10000 [00:00<?, ?it/s]"
      ]
     },
     "metadata": {},
     "output_type": "display_data"
    },
    {
     "data": {
      "application/vnd.jupyter.widget-view+json": {
       "model_id": "7c126d5a622e4488b0cebdb296210cfb",
       "version_major": 2,
       "version_minor": 0
      },
      "text/plain": [
       "  0%|          | 0/10000 [00:00<?, ?it/s]"
      ]
     },
     "metadata": {},
     "output_type": "display_data"
    },
    {
     "data": {
      "application/vnd.jupyter.widget-view+json": {
       "model_id": "c0b111f7b3d846df8e44d4d17f7b8e78",
       "version_major": 2,
       "version_minor": 0
      },
      "text/plain": [
       "  0%|          | 0/10000 [00:00<?, ?it/s]"
      ]
     },
     "metadata": {},
     "output_type": "display_data"
    },
    {
     "data": {
      "application/vnd.jupyter.widget-view+json": {
       "model_id": "7ef16ec2ceed4d6a8bb6f6853f1f1d49",
       "version_major": 2,
       "version_minor": 0
      },
      "text/plain": [
       "  0%|          | 0/10000 [00:00<?, ?it/s]"
      ]
     },
     "metadata": {},
     "output_type": "display_data"
    },
    {
     "data": {
      "application/vnd.jupyter.widget-view+json": {
       "model_id": "12310e26eb824248b25903e38641df75",
       "version_major": 2,
       "version_minor": 0
      },
      "text/plain": [
       "  0%|          | 0/10000 [00:00<?, ?it/s]"
      ]
     },
     "metadata": {},
     "output_type": "display_data"
    },
    {
     "data": {
      "image/png": "[encoded data removed]",
      "text/plain": [
       "<Figure size 640x480 with 1 Axes>"
      ]
     },
     "metadata": {},
     "output_type": "display_data"
    }
   ],
   "source": [
    "horizon = 10000\n",
    "num_trials = 5\n",
    "num_products = 3\n",
    "num_actions = 5\n",
    "alpha = 1.0 # 1 revenue, 0 profit\n",
    "kernel_L = 500.0 # kernel lengthscale\n",
    "dateformat = \"(%Y-%b-%d %Ih%Mm%p)\"\n",
    "margins = np.linspace(0.1, 0.9, num_actions)\n",
    "margins_to_idx = {margins[i]: i for i in range(num_actions)}\n",
    "margins = margins.reshape(1, num_actions)\n",
    "margins_env = np.repeat(margins, num_products, axis=0)\n",
    "demands = np.array([[0.7, 0.7, 0.3, 0.2, 0.1], [0.7, 0.6, 0.5, 0.5, 0.1], [0.9, 0.6, 0.4, 0.3, 0.2]])\n",
    "user_ranges = 10 * np.ones((num_products, 2), dtype=int)\n",
    "\n",
    "results_lst = []\n",
    "\n",
    "for trial_i in range(num_trials):\n",
    "\n",
    "    env = IndependentPricingEnvironment(num_products, num_actions, margins_env, \n",
    "                                        demands, user_ranges, alpha, seed=trial_i)\n",
    "    optimal_actions, optimal_values, action_vals = env.compute_optimal_actions_and_values()\n",
    "    \n",
    "    results_lst.append({\"pseudo_regret\" : np.zeros((horizon, num_products)), \n",
    "                        \"actions\" : np.zeros((horizon, num_products))})\n",
    "    \n",
    "    indep_agents = []\n",
    "    for i in range(num_products): \n",
    "        indep_agents.append(OptIndepPricingAgent(margins.reshape(num_actions, 1), \n",
    "                                                 kernel_L, horizon, alpha))\n",
    "\n",
    "    for t in tqdm(range(horizon)):\n",
    "        for i in range(num_products):\n",
    "            results_lst[-1][\"actions\"][t, i] = indep_agents[i].pull()\n",
    "        res = env.step(results_lst[-1][\"actions\"][t, :].ravel())\n",
    "        for i in range(num_products):\n",
    "            indep_agents[i].update(res[i, 0], res[i, 1])\n",
    "            results_lst[-1][\"pseudo_regret\"][t, i] = res[i, 1] * (optimal_values[i] - action_vals[i, margins_to_idx[results_lst[-1][\"actions\"][t, i]]])\n",
    "    \n",
    "inst_regret_matrix = np.zeros((num_trials, horizon))\n",
    "for i in range(num_trials):\n",
    "    inst_regret_matrix[i, :] = np.array(results_lst[i][\"pseudo_regret\"]).sum(axis=1)\n",
    "    \n",
    "cum_regret_matrix = np.cumsum(inst_regret_matrix, axis=1)\n",
    "results_mean = np.mean(cum_regret_matrix, axis=0)\n",
    "results_std = 1.96 * np.std(cum_regret_matrix, axis=0) / np.sqrt(num_trials)\n",
    "\n",
    "x_plt = np.linspace(0, horizon-1, horizon, dtype=int)\n",
    "plt.plot(x_plt, results_mean[x_plt], label=\"Regret Mean $\\pm$ 95% C.I.\")\n",
    "plt.fill_between(x_plt, results_mean[x_plt] - results_std[x_plt], \n",
    "                 results_mean[x_plt] + results_std[x_plt], alpha=0.3)\n",
    "plt.xlabel(\"Rounds\")\n",
    "plt.ylabel(\"Cumulative Regret\")\n",
    "plt.legend()\n",
    "\n",
    "result_folder = \"results\"\n",
    "if not os.path.exists(result_folder):\n",
    "    os.makedirs(result_folder)\n",
    "save_path = result_folder + \"/indep_run_\" + datetime.datetime.now().strftime(dateformat) + \".jpg\"\n",
    "plt.savefig(save_path)"
   ]
  },
  {
   "cell_type": "markdown",
   "id": "d75d505f",
   "metadata": {},
   "source": [
    "Identical to the code above, but with functions in order to allow for parallelization"
   ]
  },
  {
   "cell_type": "code",
   "execution_count": null,
   "id": "d82a16cd",
   "metadata": {},
   "outputs": [],
   "source": [
    "\"\"\"\n",
    "\n",
    "def trial_independent_products(horizon, trial_id, num_trials, dateformat):\n",
    "\n",
    "    start_time = time.time()\n",
    "    print(f\"{datetime.datetime.now().strftime(dateformat)} Starting trial {trial_id+1} of {num_trials}.\")\n",
    "    \n",
    "    num_products = 3\n",
    "    num_actions = 5\n",
    "    alpha = 1.0 # 1 revenue, 0 profit\n",
    "    kernel_L = 500.0 # kernel lengthscale\n",
    "    margins = np.linspace(0.1, 1, num_actions)\n",
    "    margins_to_idx = {margins[i]: i for i in range(num_actions)}\n",
    "    margins = margins.reshape(1, num_actions)\n",
    "    margins_env = np.repeat(margins, num_products, axis=0)\n",
    "    demands = np.array([[0.7, 0.7, 0.3, 0.2, 0.1], [0.7, 0.6, 0.5, 0.5, 0.1], [0.9, 0.6, 0.4, 0.3, 0.2]])\n",
    "    user_ranges = np.repeat(np.array([10, 10]).reshape(1, -1), num_products, axis=0)\n",
    "    \n",
    "    env = IndependentPricingEnvironment(num_products, num_actions, margins_env, \n",
    "                                        demands, user_ranges, alpha, seed=trial_id)\n",
    "    _, optimal_values = env.compute_optimal_actions()\n",
    "    action_vals = env.compute_actions_values()\n",
    "    \n",
    "    results_dict = {\"pseudo_regret\" : np.zeros((horizon, num_products)), \n",
    "                    \"actions\" : np.zeros((horizon, num_products))}\n",
    "    \n",
    "    indep_agents = []\n",
    "    for i in range(num_products): \n",
    "        indep_agents.append(OptIndepPricingAgent(margins.reshape(num_actions, 1), kernel_L, horizon, alpha))\n",
    "\n",
    "    for t in tqdm(range(horizon)):\n",
    "        for i in range(num_products):\n",
    "            results_dict[\"actions\"][t, i] = indep_agents[i].pull()\n",
    "        res = env.step(results_dict[\"actions\"][t, :].ravel())\n",
    "        for i in range(num_products):\n",
    "            indep_agents[i].update(res[i, 0], res[i, 1])\n",
    "            results_dict[\"pseudo_regret\"][t, i] = res[i, 1] * (optimal_values[i] - action_vals[i, margins_to_idx[results_dict[\"actions\"][t, i]]])\n",
    "    \n",
    "    print(f\"{datetime.datetime.now().strftime(dateformat)} Terminating trial {trial_id+1} of {num_trials}. Elapsed time: {int(time.time() - start_time)} sec.\")\n",
    "    \n",
    "    return results_dict\n",
    "\n",
    "\n",
    "horizon = 10000\n",
    "num_trials = 5\n",
    "dateformat = \"(%Y-%b-%d %Ih%Mm%p)\"\n",
    "\n",
    "results_lst = []\n",
    "for i in range(num_trials):\n",
    "    results_lst.append(trial_independent_products(horizon, i, num_trials, dateformat))\n",
    "\n",
    "# results_lst must be a list with inside a dictionary with keys \"pseudo_regret\" and \"actions\"\n",
    "# \"pseudo_regret\" is a matrix of shape (horizon, num_products) with the regrets\n",
    "# \"actions\" is a matrix of shape (horizon, num_products) with the actions taken\n",
    "\n",
    "x_plt = np.linspace(0, horizon-1, horizon, dtype=int)\n",
    "inst_regret_matrix = np.zeros((num_trials, horizon))\n",
    "for i in range(num_trials):\n",
    "    inst_regret_matrix[i, :] = np.array(results_lst[i][\"pseudo_regret\"]).sum(axis=1)\n",
    "    \n",
    "cum_regret_matrix = np.cumsum(inst_regret_matrix, axis=1)\n",
    "results_mean = np.mean(cum_regret_matrix, axis=0)\n",
    "results_std = 1.96 * np.std(cum_regret_matrix, axis=0) / np.sqrt(num_trials)\n",
    "\n",
    "plt.plot(x_plt, results_mean[x_plt], label=\"Regret Mean $\\pm$ 95% C.I.\")\n",
    "plt.fill_between(x_plt, results_mean[x_plt] - results_std[x_plt], \n",
    "                 results_mean[x_plt] + results_std[x_plt], alpha=0.3)\n",
    "plt.xlabel(\"Rounds\")\n",
    "plt.ylabel(\"Cumulative Regret\")\n",
    "plt.legend()\n",
    "result_folder = \"results\"\n",
    "if not os.path.exists(result_folder):\n",
    "    os.makedirs(result_folder)\n",
    "save_path = result_folder + \"/indep_run_\" + datetime.datetime.now().strftime(dateformat) + \".jpg\"\n",
    "plt.savefig(save_path)\n",
    "\n",
    "\"\"\""
   ]
  }
 ],
 "metadata": {
  "kernelspec": {
   "display_name": "py39",
   "language": "python",
   "name": "python3"
  },
  "language_info": {
   "codemirror_mode": {
    "name": "ipython",
    "version": 3
   },
   "file_extension": ".py",
   "mimetype": "text/x-python",
   "name": "python",
   "nbconvert_exporter": "python",
   "pygments_lexer": "ipython3",
   "version": "3.9.21"
  }
 },
 "nbformat": 4,
 "nbformat_minor": 5
}
