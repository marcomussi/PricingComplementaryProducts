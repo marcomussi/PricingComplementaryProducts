{
 "cells": [
  {
   "cell_type": "code",
   "execution_count": 1,
   "id": "348574d5",
   "metadata": {},
   "outputs": [
    {
     "name": "stdout",
     "output_type": "stream",
     "text": [
      "Current path: /Users/marcomussi/git/PricingComplementaryProducts\n"
     ]
    }
   ],
   "source": [
    "import os, sys, numpy as np, matplotlib.pyplot as plt\n",
    "\n",
    "if os.path.basename(os.getcwd()) == \"notebooks\":\n",
    "    os.chdir(\"..\")\n",
    "print(f\"Current path: {os.getcwd()}\")\n",
    "sys.path.append('./')\n",
    "\n",
    "from environments.complementary import ComplementaryPricingEnvironment"
   ]
  },
  {
   "cell_type": "code",
   "execution_count": 2,
   "id": "f90e162f",
   "metadata": {},
   "outputs": [
    {
     "name": "stdout",
     "output_type": "stream",
     "text": [
      "Optimal values for leader 0:\n",
      "[0.094 0.454 0.225 0.169 0.095]\n",
      "Optimal values for leader 1:\n",
      "[0.095 0.391 0.451 0.34  0.095]\n",
      "Optimal values for leader 2:\n",
      "[0.286 0.39  0.451 0.425 0.286]\n",
      "Optimal values for leader 0:\n",
      "[[0.512 0.914 1.012 0.886 0.514]\n",
      " [1.1   1.508 1.46  1.398 1.1  ]\n",
      " [0.721 1.123 1.17  1.067 0.719]\n",
      " [0.626 1.028 1.1   0.986 0.625]\n",
      " [0.514 0.912 1.01  0.886 0.513]]\n"
     ]
    }
   ],
   "source": [
    "horizon = 10\n",
    "n_products = 3\n",
    "n_actions = 5\n",
    "n_baskets = 100\n",
    "products_probs = np.array([0.5, 0.5, 0.5])\n",
    "alpha = 1.0 # 1 revenue, 0 profit\n",
    "mc_ep = 10000\n",
    "\n",
    "margins = np.linspace(0.1, 0.9, n_actions)\n",
    "margins_to_idx = {margins[i]: i for i in range(n_actions)}\n",
    "margins = margins.reshape(1, n_actions)\n",
    "margins_env = np.repeat(margins, n_products, axis=0)\n",
    "\n",
    "demands = np.array([[0.7, 0.7, 0.3, 0.2, 0.1], [0.7, 0.6, 0.6, 0.4, 0.1], [0.7, 0.6, 0.6, 0.5, 0.3]])\n",
    "demands_compl = np.repeat(demands, 2, axis=1).reshape(n_products, n_actions, 2)\n",
    "demands_compl[1, :, 1] = np.array([0.95, 0.9, 0.7, 0.6, 0.4]) # enhanced demand for product 1\n",
    "demands_compl[2, :, 1] = np.array([0.95, 0.9, 0.7, 0.6, 0.4]) # enhanced demand for product 2\n",
    "\n",
    "graph_dict = {0: [], 1: [], 2: []} # product 0, 1, 2 are all leaders/independent\n",
    "env = ComplementaryPricingEnvironment(n_products, n_actions, margins_env, demands_compl, n_baskets, \n",
    "                                      products_probs, alpha, graph_dict, mc_ep=mc_ep, seed=0)\n",
    "vals = env.compute_values()\n",
    "for i in env.leaders_lst:\n",
    "    print(f\"Optimal values for leader {i}:\")\n",
    "    print(np.round(vals[i], 3))\n",
    "\n",
    "graph_dict = {0: [1, 2]} # product 0 is leader of products 1 and 2\n",
    "env = ComplementaryPricingEnvironment(n_products, n_actions, margins_env, demands_compl, n_baskets, \n",
    "                                      products_probs, alpha, graph_dict, mc_ep=mc_ep, seed=0)\n",
    "vals = env.compute_values()\n",
    "for i in env.leaders_lst:\n",
    "    print(f\"Optimal values for leader {i}:\")\n",
    "    print(np.round(vals[i], 3))"
   ]
  },
  {
   "cell_type": "code",
   "execution_count": null,
   "id": "5f499f46",
   "metadata": {},
   "outputs": [],
   "source": []
  }
 ],
 "metadata": {
  "kernelspec": {
   "display_name": "py39",
   "language": "python",
   "name": "python3"
  },
  "language_info": {
   "codemirror_mode": {
    "name": "ipython",
    "version": 3
   },
   "file_extension": ".py",
   "mimetype": "text/x-python",
   "name": "python",
   "nbconvert_exporter": "python",
   "pygments_lexer": "ipython3",
   "version": "3.9.21"
  }
 },
 "nbformat": 4,
 "nbformat_minor": 5
}
