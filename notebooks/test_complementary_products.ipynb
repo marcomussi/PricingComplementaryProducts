{
 "cells": [
  {
   "cell_type": "code",
   "execution_count": 1,
   "id": "348574d5",
   "metadata": {},
   "outputs": [
    {
     "name": "stdout",
     "output_type": "stream",
     "text": [
      "Current path: /Users/marcomussi/git/PricingComplementaryProducts\n"
     ]
    }
   ],
   "source": [
    "import os, sys, datetime, numpy as np, matplotlib.pyplot as plt\n",
    "from tqdm.auto import tqdm\n",
    "\n",
    "if os.path.basename(os.getcwd()) == \"notebooks\":\n",
    "    os.chdir(\"..\")\n",
    "print(f\"Current path: {os.getcwd()}\")\n",
    "sys.path.append('./')\n",
    "\n",
    "from environments.complementary import ComplementaryPricingEnvironment\n",
    "from agents.pricing.catalog import CatalogPricingAgent"
   ]
  },
  {
   "cell_type": "code",
   "execution_count": 2,
   "id": "5413164e",
   "metadata": {},
   "outputs": [],
   "source": [
    "horizon = 10000\n",
    "n_products = 3\n",
    "n_actions = 5\n",
    "n_baskets = 1000\n",
    "products_probs = np.array([0.5, 0.5, 0.5])\n",
    "alpha = 1.0 # 1 revenue, 0 profit\n",
    "mc_ep = 1000\n",
    "num_trials = 5\n",
    "kernel_L = 1000\n",
    "dateformat = \"(%Y-%b-%d %Ih%Mm%p)\"\n",
    "\n",
    "margins = np.linspace(0.1, 0.9, n_actions)\n",
    "margins_to_idx = {margins[i]: i for i in range(n_actions)}\n",
    "margins = margins.reshape(1, n_actions)\n",
    "margins_env = np.repeat(margins, n_products, axis=0)\n",
    "\n",
    "demands = np.array([[0.7, 0.7, 0.3, 0.2, 0.1], [0.7, 0.6, 0.6, 0.4, 0.1], [0.7, 0.6, 0.6, 0.5, 0.3]])\n",
    "demands_compl = np.repeat(demands, 2, axis=1).reshape(n_products, n_actions, 2)\n",
    "demands_compl[1, :, 1] = np.array([0.95, 0.9, 0.7, 0.6, 0.4]) # enhanced demand for product 1\n",
    "demands_compl[2, :, 1] = np.array([0.95, 0.9, 0.7, 0.6, 0.4]) # enhanced demand for product 2"
   ]
  },
  {
   "cell_type": "code",
   "execution_count": 3,
   "id": "f49f958b",
   "metadata": {},
   "outputs": [
    {
     "name": "stdout",
     "output_type": "stream",
     "text": [
      "Optimal values for leader 0:\n",
      "[[0.512 0.914 1.012 0.886 0.514]\n",
      " [1.1   1.508 1.46  1.398 1.1  ]\n",
      " [0.721 1.123 1.17  1.067 0.719]\n",
      " [0.626 1.028 1.1   0.986 0.625]\n",
      " [0.514 0.912 1.01  0.886 0.513]]\n"
     ]
    }
   ],
   "source": [
    "# graph_dict = {0: [], 1: [], 2: []} # product 0, 1, 2 are all leaders/independent\n",
    "graph_dict = {0: [1, 2]} # product 0 is leader of products 1 and 2\n",
    "env = ComplementaryPricingEnvironment(n_products, n_actions, margins_env, demands_compl, n_baskets, \n",
    "                                      products_probs, alpha, graph_dict, mc_ep=mc_ep, seed=0)\n",
    "vals = env.compute_values()\n",
    "for i in env.leaders_lst:\n",
    "    print(f\"Optimal values for leader {i}:\")\n",
    "    print(np.round(vals[i], 3))"
   ]
  },
  {
   "cell_type": "code",
   "execution_count": 4,
   "id": "3c124bfb",
   "metadata": {},
   "outputs": [
    {
     "data": {
      "application/vnd.jupyter.widget-view+json": {
       "model_id": "e0b5613149984f3185b9be8db7ee080b",
       "version_major": 2,
       "version_minor": 0
      },
      "text/plain": [
       "  0%|          | 0/10000 [00:00<?, ?it/s]"
      ]
     },
     "metadata": {},
     "output_type": "display_data"
    },
    {
     "data": {
      "application/vnd.jupyter.widget-view+json": {
       "model_id": "e131815d368544cf8e07711e639a6bab",
       "version_major": 2,
       "version_minor": 0
      },
      "text/plain": [
       "  0%|          | 0/10000 [00:00<?, ?it/s]"
      ]
     },
     "metadata": {},
     "output_type": "display_data"
    },
    {
     "data": {
      "application/vnd.jupyter.widget-view+json": {
       "model_id": "1b07d06d72114ac092af0c24b880a238",
       "version_major": 2,
       "version_minor": 0
      },
      "text/plain": [
       "  0%|          | 0/10000 [00:00<?, ?it/s]"
      ]
     },
     "metadata": {},
     "output_type": "display_data"
    },
    {
     "data": {
      "application/vnd.jupyter.widget-view+json": {
       "model_id": "b804ecd1df4d45edb69de969839aa0a8",
       "version_major": 2,
       "version_minor": 0
      },
      "text/plain": [
       "  0%|          | 0/10000 [00:00<?, ?it/s]"
      ]
     },
     "metadata": {},
     "output_type": "display_data"
    },
    {
     "data": {
      "application/vnd.jupyter.widget-view+json": {
       "model_id": "a303800a129c4d45bc9ef3b1915ff35a",
       "version_major": 2,
       "version_minor": 0
      },
      "text/plain": [
       "  0%|          | 0/10000 [00:00<?, ?it/s]"
      ]
     },
     "metadata": {},
     "output_type": "display_data"
    }
   ],
   "source": [
    "graph_dict = {0: [1, 2]} # product 0 is leader of products 1 and 2\n",
    "\n",
    "results_lst = []\n",
    "\n",
    "for trial_i in range(num_trials):\n",
    "\n",
    "    env = ComplementaryPricingEnvironment(n_products, n_actions, margins_env, demands_compl, n_baskets, \n",
    "                                          products_probs, alpha, graph_dict, mc_ep=mc_ep, seed=trial_i)\n",
    "\n",
    "    action_vals = env.compute_values()\n",
    "\n",
    "    results_lst.append({\"pseudo_regret\" : np.zeros((horizon)), \n",
    "                        \"actions\" : np.zeros((horizon, n_products))})\n",
    "    \n",
    "    agent = CatalogPricingAgent(n_products, n_actions, margins_env, alpha, kernel_L, horizon, graph_dict=graph_dict)\n",
    "\n",
    "    opt = env.compute_best_action_value()\n",
    "\n",
    "    for t in tqdm(range(horizon)):\n",
    "\n",
    "        results_lst[-1][\"actions\"][t, :] = agent.pull()\n",
    "\n",
    "        res_mx = env.step(results_lst[-1][\"actions\"][t, :].ravel())\n",
    "\n",
    "        agent.update(res_mx[:, :, 0], res_mx[:, :, 1])\n",
    "\n",
    "        results_lst[-1][\"pseudo_regret\"][t] = opt - env.compute_action_value(results_lst[-1][\"actions\"][t, :].ravel())\n",
    "    \n"
   ]
  },
  {
   "cell_type": "code",
   "execution_count": 5,
   "id": "2442b89c",
   "metadata": {},
   "outputs": [
    {
     "data": {
      "image/png": "[encoded data removed]",
      "text/plain": [
       "<Figure size 640x480 with 1 Axes>"
      ]
     },
     "metadata": {},
     "output_type": "display_data"
    }
   ],
   "source": [
    "inst_regret_matrix = np.zeros((num_trials, horizon))\n",
    "\n",
    "for i in range(num_trials):\n",
    "    inst_regret_matrix[i, :] = np.array(results_lst[i][\"pseudo_regret\"])\n",
    "    \n",
    "cum_regret_matrix = np.cumsum(inst_regret_matrix, axis=1)\n",
    "results_mean = np.mean(cum_regret_matrix, axis=0)\n",
    "results_std = 1.96 * np.std(cum_regret_matrix, axis=0) / np.sqrt(num_trials)\n",
    "\n",
    "x_plt = np.linspace(0, horizon-1, horizon, dtype=int)\n",
    "plt.plot(x_plt, results_mean[x_plt], label=\"Regret Mean $\\pm$ 95% C.I.\")\n",
    "plt.fill_between(x_plt, results_mean[x_plt] - results_std[x_plt], \n",
    "                 results_mean[x_plt] + results_std[x_plt], alpha=0.3)\n",
    "plt.xlabel(\"Rounds\")\n",
    "plt.ylabel(\"Cumulative Regret\")\n",
    "plt.legend()\n",
    "\n",
    "result_folder = \"results\"\n",
    "if not os.path.exists(result_folder):\n",
    "    os.makedirs(result_folder)\n",
    "save_path = result_folder + \"/compl_run_\" + datetime.datetime.now().strftime(dateformat) + \".jpg\"\n",
    "plt.savefig(save_path)"
   ]
  }
 ],
 "metadata": {
  "kernelspec": {
   "display_name": "py39",
   "language": "python",
   "name": "python3"
  },
  "language_info": {
   "codemirror_mode": {
    "name": "ipython",
    "version": 3
   },
   "file_extension": ".py",
   "mimetype": "text/x-python",
   "name": "python",
   "nbconvert_exporter": "python",
   "pygments_lexer": "ipython3",
   "version": "3.9.21"
  }
 },
 "nbformat": 4,
 "nbformat_minor": 5
}
